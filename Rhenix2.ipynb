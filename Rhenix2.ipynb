{
 "cells": [
  {
   "cell_type": "code",
   "execution_count": 1,
   "id": "40dc929d",
   "metadata": {},
   "outputs": [],
   "source": [
    "import pandas as pd\n",
    "import numpy as np\n",
    "import plotly.express as px\n",
    "import matplotlib as mpl\n",
    "import matplotlib.pyplot as plt\n",
    "from datetime import datetime\n",
    "import seaborn as sns"
   ]
  },
  {
   "cell_type": "code",
   "execution_count": 2,
   "id": "b86135e7",
   "metadata": {},
   "outputs": [],
   "source": [
    "df_sleep = pd.read_csv('sleep.csv')\n",
    "df_steps = pd.read_csv('steps.csv')\n"
   ]
  },
  {
   "cell_type": "code",
   "execution_count": 3,
   "id": "259e8d8c",
   "metadata": {},
   "outputs": [
    {
     "data": {
      "text/html": [
       "<div>\n",
       "<style scoped>\n",
       "    .dataframe tbody tr th:only-of-type {\n",
       "        vertical-align: middle;\n",
       "    }\n",
       "\n",
       "    .dataframe tbody tr th {\n",
       "        vertical-align: top;\n",
       "    }\n",
       "\n",
       "    .dataframe thead th {\n",
       "        text-align: right;\n",
       "    }\n",
       "</style>\n",
       "<table border=\"1\" class=\"dataframe\">\n",
       "  <thead>\n",
       "    <tr style=\"text-align: right;\">\n",
       "      <th></th>\n",
       "      <th>Timestamp</th>\n",
       "      <th>Minutes Asleep</th>\n",
       "      <th>Sleep Type</th>\n",
       "    </tr>\n",
       "  </thead>\n",
       "  <tbody>\n",
       "    <tr>\n",
       "      <th>0</th>\n",
       "      <td>2022-05-25T00:00:00.000</td>\n",
       "      <td>31</td>\n",
       "      <td>light</td>\n",
       "    </tr>\n",
       "    <tr>\n",
       "      <th>1</th>\n",
       "      <td>2022-05-25T00:31:00.000</td>\n",
       "      <td>16</td>\n",
       "      <td>rem</td>\n",
       "    </tr>\n",
       "    <tr>\n",
       "      <th>2</th>\n",
       "      <td>2022-05-25T00:47:00.000</td>\n",
       "      <td>19</td>\n",
       "      <td>light</td>\n",
       "    </tr>\n",
       "    <tr>\n",
       "      <th>3</th>\n",
       "      <td>2022-05-25T01:06:00.000</td>\n",
       "      <td>22</td>\n",
       "      <td>deep</td>\n",
       "    </tr>\n",
       "    <tr>\n",
       "      <th>4</th>\n",
       "      <td>2022-05-25T01:28:00.000</td>\n",
       "      <td>25</td>\n",
       "      <td>light</td>\n",
       "    </tr>\n",
       "  </tbody>\n",
       "</table>\n",
       "</div>"
      ],
      "text/plain": [
       "                 Timestamp  Minutes Asleep Sleep Type\n",
       "0  2022-05-25T00:00:00.000              31      light\n",
       "1  2022-05-25T00:31:00.000              16        rem\n",
       "2  2022-05-25T00:47:00.000              19      light\n",
       "3  2022-05-25T01:06:00.000              22       deep\n",
       "4  2022-05-25T01:28:00.000              25      light"
      ]
     },
     "execution_count": 3,
     "metadata": {},
     "output_type": "execute_result"
    }
   ],
   "source": [
    "df_sleep.head()"
   ]
  },
  {
   "cell_type": "code",
   "execution_count": 4,
   "id": "595a19a7",
   "metadata": {},
   "outputs": [
    {
     "data": {
      "text/html": [
       "<div>\n",
       "<style scoped>\n",
       "    .dataframe tbody tr th:only-of-type {\n",
       "        vertical-align: middle;\n",
       "    }\n",
       "\n",
       "    .dataframe tbody tr th {\n",
       "        vertical-align: top;\n",
       "    }\n",
       "\n",
       "    .dataframe thead th {\n",
       "        text-align: right;\n",
       "    }\n",
       "</style>\n",
       "<table border=\"1\" class=\"dataframe\">\n",
       "  <thead>\n",
       "    <tr style=\"text-align: right;\">\n",
       "      <th></th>\n",
       "      <th>datetime</th>\n",
       "      <th>steps</th>\n",
       "    </tr>\n",
       "  </thead>\n",
       "  <tbody>\n",
       "    <tr>\n",
       "      <th>0</th>\n",
       "      <td>25/05/22 0:00</td>\n",
       "      <td>NaN</td>\n",
       "    </tr>\n",
       "    <tr>\n",
       "      <th>1</th>\n",
       "      <td>25/05/22 0:01</td>\n",
       "      <td>NaN</td>\n",
       "    </tr>\n",
       "    <tr>\n",
       "      <th>2</th>\n",
       "      <td>25/05/22 0:02</td>\n",
       "      <td>0.0</td>\n",
       "    </tr>\n",
       "    <tr>\n",
       "      <th>3</th>\n",
       "      <td>25/05/22 0:03</td>\n",
       "      <td>0.0</td>\n",
       "    </tr>\n",
       "    <tr>\n",
       "      <th>4</th>\n",
       "      <td>25/05/22 0:04</td>\n",
       "      <td>0.0</td>\n",
       "    </tr>\n",
       "  </tbody>\n",
       "</table>\n",
       "</div>"
      ],
      "text/plain": [
       "        datetime  steps\n",
       "0  25/05/22 0:00    NaN\n",
       "1  25/05/22 0:01    NaN\n",
       "2  25/05/22 0:02    0.0\n",
       "3  25/05/22 0:03    0.0\n",
       "4  25/05/22 0:04    0.0"
      ]
     },
     "execution_count": 4,
     "metadata": {},
     "output_type": "execute_result"
    }
   ],
   "source": [
    "df_steps.head()"
   ]
  },
  {
   "cell_type": "code",
   "execution_count": 5,
   "id": "403b70e8",
   "metadata": {},
   "outputs": [
    {
     "name": "stderr",
     "output_type": "stream",
     "text": [
      "/var/folders/s1/rf4gbymj7_x8bd7ts3__3cwc0000gn/T/ipykernel_39751/1755105402.py:2: SettingWithCopyWarning: \n",
      "A value is trying to be set on a copy of a slice from a DataFrame\n",
      "\n",
      "See the caveats in the documentation: https://pandas.pydata.org/pandas-docs/stable/user_guide/indexing.html#returning-a-view-versus-a-copy\n",
      "  df_sleep['Timestamp'][i]= str(df_sleep['Timestamp'][i]).replace('T', ' ')\n"
     ]
    }
   ],
   "source": [
    "for i in range(len(df_sleep['Timestamp'])):\n",
    "    df_sleep['Timestamp'][i]= str(df_sleep['Timestamp'][i]).replace('T', ' ')"
   ]
  },
  {
   "cell_type": "code",
   "execution_count": 6,
   "id": "37a185c1",
   "metadata": {},
   "outputs": [
    {
     "data": {
      "text/html": [
       "<div>\n",
       "<style scoped>\n",
       "    .dataframe tbody tr th:only-of-type {\n",
       "        vertical-align: middle;\n",
       "    }\n",
       "\n",
       "    .dataframe tbody tr th {\n",
       "        vertical-align: top;\n",
       "    }\n",
       "\n",
       "    .dataframe thead th {\n",
       "        text-align: right;\n",
       "    }\n",
       "</style>\n",
       "<table border=\"1\" class=\"dataframe\">\n",
       "  <thead>\n",
       "    <tr style=\"text-align: right;\">\n",
       "      <th></th>\n",
       "      <th>Timestamp</th>\n",
       "      <th>Minutes Asleep</th>\n",
       "      <th>Sleep Type</th>\n",
       "    </tr>\n",
       "  </thead>\n",
       "  <tbody>\n",
       "    <tr>\n",
       "      <th>0</th>\n",
       "      <td>2022-05-25 00:00:00.000</td>\n",
       "      <td>31</td>\n",
       "      <td>light</td>\n",
       "    </tr>\n",
       "    <tr>\n",
       "      <th>1</th>\n",
       "      <td>2022-05-25 00:31:00.000</td>\n",
       "      <td>16</td>\n",
       "      <td>rem</td>\n",
       "    </tr>\n",
       "    <tr>\n",
       "      <th>2</th>\n",
       "      <td>2022-05-25 00:47:00.000</td>\n",
       "      <td>19</td>\n",
       "      <td>light</td>\n",
       "    </tr>\n",
       "    <tr>\n",
       "      <th>3</th>\n",
       "      <td>2022-05-25 01:06:00.000</td>\n",
       "      <td>22</td>\n",
       "      <td>deep</td>\n",
       "    </tr>\n",
       "    <tr>\n",
       "      <th>4</th>\n",
       "      <td>2022-05-25 01:28:00.000</td>\n",
       "      <td>25</td>\n",
       "      <td>light</td>\n",
       "    </tr>\n",
       "  </tbody>\n",
       "</table>\n",
       "</div>"
      ],
      "text/plain": [
       "                 Timestamp  Minutes Asleep Sleep Type\n",
       "0  2022-05-25 00:00:00.000              31      light\n",
       "1  2022-05-25 00:31:00.000              16        rem\n",
       "2  2022-05-25 00:47:00.000              19      light\n",
       "3  2022-05-25 01:06:00.000              22       deep\n",
       "4  2022-05-25 01:28:00.000              25      light"
      ]
     },
     "execution_count": 6,
     "metadata": {},
     "output_type": "execute_result"
    }
   ],
   "source": [
    "df_sleep.head()"
   ]
  },
  {
   "cell_type": "code",
   "execution_count": 7,
   "id": "0a7d8b2f",
   "metadata": {},
   "outputs": [],
   "source": [
    "df_sleep['Timestamp'] = pd.to_datetime(df_sleep['Timestamp'], format = \"%Y/%m/%d %H:%M:%S.%f\") "
   ]
  },
  {
   "cell_type": "code",
   "execution_count": 8,
   "id": "aedc01b8",
   "metadata": {},
   "outputs": [
    {
     "name": "stdout",
     "output_type": "stream",
     "text": [
      "<class 'pandas.core.frame.DataFrame'>\n",
      "RangeIndex: 33 entries, 0 to 32\n",
      "Data columns (total 3 columns):\n",
      " #   Column          Non-Null Count  Dtype         \n",
      "---  ------          --------------  -----         \n",
      " 0   Timestamp       33 non-null     datetime64[ns]\n",
      " 1   Minutes Asleep  33 non-null     int64         \n",
      " 2   Sleep Type      33 non-null     object        \n",
      "dtypes: datetime64[ns](1), int64(1), object(1)\n",
      "memory usage: 920.0+ bytes\n"
     ]
    }
   ],
   "source": [
    "df_sleep.info()"
   ]
  },
  {
   "cell_type": "code",
   "execution_count": 9,
   "id": "4deba6d5",
   "metadata": {},
   "outputs": [],
   "source": [
    "df_steps['datetime'] = pd.to_datetime(df_steps['datetime'], format = \"%d/%m/%y %H:%M\") "
   ]
  },
  {
   "cell_type": "code",
   "execution_count": 10,
   "id": "1ce95e74",
   "metadata": {},
   "outputs": [
    {
     "name": "stdout",
     "output_type": "stream",
     "text": [
      "<class 'pandas.core.frame.DataFrame'>\n",
      "RangeIndex: 1440 entries, 0 to 1439\n",
      "Data columns (total 2 columns):\n",
      " #   Column    Non-Null Count  Dtype         \n",
      "---  ------    --------------  -----         \n",
      " 0   datetime  1440 non-null   datetime64[ns]\n",
      " 1   steps     1438 non-null   float64       \n",
      "dtypes: datetime64[ns](1), float64(1)\n",
      "memory usage: 22.6 KB\n"
     ]
    }
   ],
   "source": [
    "df_steps.info()"
   ]
  },
  {
   "cell_type": "code",
   "execution_count": 11,
   "id": "8d9bc57c",
   "metadata": {},
   "outputs": [
    {
     "data": {
      "text/plain": [
       "2"
      ]
     },
     "execution_count": 11,
     "metadata": {},
     "output_type": "execute_result"
    }
   ],
   "source": [
    "df_steps['steps'].isnull().sum()"
   ]
  },
  {
   "cell_type": "code",
   "execution_count": 12,
   "id": "86bd3b70",
   "metadata": {},
   "outputs": [],
   "source": [
    "df_steps['steps'] = df_steps['steps'].fillna(0)\n"
   ]
  },
  {
   "cell_type": "code",
   "execution_count": 13,
   "id": "3f09c9d0",
   "metadata": {},
   "outputs": [
    {
     "name": "stdout",
     "output_type": "stream",
     "text": [
      "2022-05-25 07:50:00\n"
     ]
    }
   ],
   "source": [
    "ts = df_sleep['Timestamp'][32] \n",
    "print(ts)"
   ]
  },
  {
   "cell_type": "code",
   "execution_count": 14,
   "id": "53b0ff92",
   "metadata": {},
   "outputs": [],
   "source": [
    "df_steps = df_steps.loc[(df_steps.datetime <ts) ,:]"
   ]
  },
  {
   "cell_type": "code",
   "execution_count": 15,
   "id": "7cf8f925",
   "metadata": {},
   "outputs": [
    {
     "name": "stdout",
     "output_type": "stream",
     "text": [
      "<class 'pandas.core.frame.DataFrame'>\n",
      "Int64Index: 470 entries, 0 to 469\n",
      "Data columns (total 2 columns):\n",
      " #   Column    Non-Null Count  Dtype         \n",
      "---  ------    --------------  -----         \n",
      " 0   datetime  470 non-null    datetime64[ns]\n",
      " 1   steps     470 non-null    float64       \n",
      "dtypes: datetime64[ns](1), float64(1)\n",
      "memory usage: 11.0 KB\n"
     ]
    }
   ],
   "source": [
    "df_steps.info()"
   ]
  },
  {
   "cell_type": "code",
   "execution_count": 16,
   "id": "90ad6fdd",
   "metadata": {},
   "outputs": [
    {
     "data": {
      "text/plain": [
       "light    16\n",
       "wake      8\n",
       "deep      6\n",
       "rem       3\n",
       "Name: Sleep Type, dtype: int64"
      ]
     },
     "execution_count": 16,
     "metadata": {},
     "output_type": "execute_result"
    }
   ],
   "source": [
    "df_sleep['Sleep Type'].value_counts()"
   ]
  },
  {
   "cell_type": "code",
   "execution_count": 17,
   "id": "bfe7a7bb",
   "metadata": {},
   "outputs": [
    {
     "data": {
      "text/plain": [
       "7.866666666666666"
      ]
     },
     "execution_count": 17,
     "metadata": {},
     "output_type": "execute_result"
    }
   ],
   "source": [
    "(df_sleep['Minutes Asleep'].sum())/60"
   ]
  },
  {
   "cell_type": "code",
   "execution_count": 18,
   "id": "66a1d634",
   "metadata": {},
   "outputs": [],
   "source": [
    "light_sleep=0\n",
    "wake_sleep = 0\n",
    "deep_sleep = 0\n",
    "rem_sleep = 0\n"
   ]
  },
  {
   "cell_type": "code",
   "execution_count": 19,
   "id": "0b4f6c37",
   "metadata": {},
   "outputs": [],
   "source": [
    "for i in range(len(df_sleep['Minutes Asleep'])):\n",
    "    if (df_sleep['Sleep Type'][i] == 'light'):\n",
    "        light_sleep+= df_sleep['Minutes Asleep'][i]\n",
    "    elif (df_sleep['Sleep Type'][i] == 'wake'):\n",
    "        wake_sleep+= df_sleep['Minutes Asleep'][i]\n",
    "    elif (df_sleep['Sleep Type'][i] == 'deep'):\n",
    "        deep_sleep+= df_sleep['Minutes Asleep'][i]\n",
    "    elif (df_sleep['Sleep Type'][i] == 'rem'):\n",
    "        rem_sleep+= df_sleep['Minutes Asleep'][i]"
   ]
  },
  {
   "cell_type": "code",
   "execution_count": 20,
   "id": "86ef930c",
   "metadata": {},
   "outputs": [
    {
     "name": "stdout",
     "output_type": "stream",
     "text": [
      "Subjects sleeps lightly for about 50.42372881355932 % of the time\n",
      "Subjects sleeps deeply for about 17.796610169491526 % of the time\n",
      "Subjects rem sleeps for about 17.796610169491526 % of the time\n",
      "Subjects is awake for about 13.983050847457626 % of the time\n"
     ]
    }
   ],
   "source": [
    "print('Subjects sleeps lightly for about' , light_sleep/ df_sleep['Minutes Asleep'].sum()*100 , \"% of the time\" )\n",
    "print('Subjects sleeps deeply for about' , deep_sleep/ df_sleep['Minutes Asleep'].sum()*100 , \"% of the time\" )\n",
    "print('Subjects rem sleeps for about' , rem_sleep/ df_sleep['Minutes Asleep'].sum()*100 , \"% of the time\" )\n",
    "\n",
    "print('Subjects is awake for about' , wake_sleep/ df_sleep['Minutes Asleep'].sum()*100 , \"% of the time\" )\n"
   ]
  },
  {
   "cell_type": "code",
   "execution_count": 21,
   "id": "4e513122",
   "metadata": {},
   "outputs": [
    {
     "data": {
      "image/png": "[encoded data removed]",
      "text/plain": [
       "<Figure size 432x288 with 1 Axes>"
      ]
     },
     "metadata": {},
     "output_type": "display_data"
    }
   ],
   "source": [
    "labels = ['light', 'deep', 'wake', 'rem']\n",
    "share = [light_sleep , wake_sleep, deep_sleep , rem_sleep ]\n",
    "plt.style.use('ggplot')\n",
    "plt.title('Sleep Cycle Analysis')\n",
    "plt.pie(x=share, labels=labels, autopct='%.2f%%',startangle=90)\n",
    "plt.axis('equal')\n",
    "plt.legend(loc='upper right')\n",
    "circle = plt.Circle(xy=(0,0), radius=.75, facecolor='white')\n",
    "plt.gca().add_artist(circle)\n",
    "plt.show()"
   ]
  },
  {
   "cell_type": "code",
   "execution_count": 22,
   "id": "b1ed1b5f",
   "metadata": {},
   "outputs": [],
   "source": [
    "df_sleep['Timestamp'] = df_sleep['Timestamp'] - pd.to_timedelta(df_sleep['Timestamp'].dt.second, unit='s')"
   ]
  },
  {
   "cell_type": "code",
   "execution_count": 23,
   "id": "f75bde92",
   "metadata": {},
   "outputs": [
    {
     "data": {
      "text/plain": [
       "0    2022-05-25 00:00:00\n",
       "1    2022-05-25 00:31:00\n",
       "2    2022-05-25 00:47:00\n",
       "3    2022-05-25 01:06:00\n",
       "4    2022-05-25 01:28:00\n",
       "5    2022-05-25 01:53:00\n",
       "6    2022-05-25 01:57:00\n",
       "7    2022-05-25 02:10:00\n",
       "8    2022-05-25 02:22:00\n",
       "9    2022-05-25 02:24:00\n",
       "10   2022-05-25 02:38:00\n",
       "11   2022-05-25 02:46:00\n",
       "12   2022-05-25 02:50:00\n",
       "13   2022-05-25 03:05:00\n",
       "14   2022-05-25 03:28:00\n",
       "15   2022-05-25 03:52:00\n",
       "16   2022-05-25 04:01:00\n",
       "17   2022-05-25 04:12:00\n",
       "18   2022-05-25 04:16:00\n",
       "19   2022-05-25 04:21:00\n",
       "20   2022-05-25 04:23:00\n",
       "21   2022-05-25 04:31:00\n",
       "22   2022-05-25 05:08:00\n",
       "23   2022-05-25 05:21:00\n",
       "24   2022-05-25 05:37:00\n",
       "25   2022-05-25 05:43:00\n",
       "26   2022-05-25 06:06:00\n",
       "27   2022-05-25 07:04:00\n",
       "28   2022-05-25 07:16:00\n",
       "29   2022-05-25 07:22:00\n",
       "30   2022-05-25 07:35:00\n",
       "31   2022-05-25 07:44:00\n",
       "32   2022-05-25 07:50:00\n",
       "Name: Timestamp, dtype: datetime64[ns]"
      ]
     },
     "execution_count": 23,
     "metadata": {},
     "output_type": "execute_result"
    }
   ],
   "source": [
    "df_sleep['Timestamp']"
   ]
  },
  {
   "cell_type": "code",
   "execution_count": 24,
   "id": "692bd890",
   "metadata": {},
   "outputs": [
    {
     "name": "stdout",
     "output_type": "stream",
     "text": [
      "2022-05-25 02:10:00\n",
      "2022-05-25 02:10:00\n"
     ]
    }
   ],
   "source": [
    "steps_walked_list = []\n",
    "print(df_sleep['Timestamp'][7])\n",
    "print(df_steps['datetime'][130])\n"
   ]
  },
  {
   "cell_type": "code",
   "execution_count": 25,
   "id": "39d0f03d",
   "metadata": {},
   "outputs": [],
   "source": [
    "for i in range(len(df_sleep['Sleep Type'])):\n",
    "    if (df_sleep['Sleep Type'][i]== 'wake'):\n",
    "        ts = df_sleep['Timestamp'][i]\n",
    "        mins = df_sleep['Minutes Asleep'][i]\n",
    "        for j in range(len(df_steps['steps'])):\n",
    "            if(ts == df_steps['datetime'][j]):\n",
    "                steps_walked = 0\n",
    "                for k in range(j , j+mins+1):\n",
    "                    steps_walked+= df_steps['steps'][k]\n",
    "                steps_walked_list.append(steps_walked)"
   ]
  },
  {
   "cell_type": "code",
   "execution_count": 26,
   "id": "f62e0a2c",
   "metadata": {},
   "outputs": [
    {
     "data": {
      "text/plain": [
       "[0.0, 22.0, 135.0, 10.0, 10.0, 57.0, 0.0]"
      ]
     },
     "execution_count": 26,
     "metadata": {},
     "output_type": "execute_result"
    }
   ],
   "source": [
    "steps_walked_list"
   ]
  },
  {
   "cell_type": "code",
   "execution_count": 27,
   "id": "0115b5ef",
   "metadata": {},
   "outputs": [],
   "source": [
    "timestamp_wake = []"
   ]
  },
  {
   "cell_type": "code",
   "execution_count": 28,
   "id": "f0ab8664",
   "metadata": {},
   "outputs": [],
   "source": [
    "for i in range(0,33):\n",
    "    if(df_sleep['Sleep Type'][i] == 'wake'):\n",
    "        timestamp_wake.append(df_sleep['Timestamp'][i])"
   ]
  },
  {
   "cell_type": "code",
   "execution_count": 29,
   "id": "626b5a13",
   "metadata": {},
   "outputs": [],
   "source": [
    "timestamp_wake = timestamp_wake[:-1]\n",
    "#removing the last element as it is the time at which the test subject has finally woke up from his sleep"
   ]
  },
  {
   "cell_type": "code",
   "execution_count": 30,
   "id": "cab1daef",
   "metadata": {},
   "outputs": [
    {
     "data": {
      "text/plain": [
       "[Timestamp('2022-05-25 01:53:00'),\n",
       " Timestamp('2022-05-25 02:10:00'),\n",
       " Timestamp('2022-05-25 02:24:00'),\n",
       " Timestamp('2022-05-25 02:50:00'),\n",
       " Timestamp('2022-05-25 04:16:00'),\n",
       " Timestamp('2022-05-25 05:37:00'),\n",
       " Timestamp('2022-05-25 07:16:00')]"
      ]
     },
     "execution_count": 30,
     "metadata": {},
     "output_type": "execute_result"
    }
   ],
   "source": [
    "timestamp_wake"
   ]
  },
  {
   "cell_type": "code",
   "execution_count": 31,
   "id": "d3a8983d",
   "metadata": {},
   "outputs": [],
   "source": [
    "df_wake = pd.DataFrame({'Timestamp': timestamp_wake ,'Steps walked':steps_walked_list ,})"
   ]
  },
  {
   "cell_type": "code",
   "execution_count": 32,
   "id": "ede17223",
   "metadata": {},
   "outputs": [
    {
     "data": {
      "text/html": [
       "<div>\n",
       "<style scoped>\n",
       "    .dataframe tbody tr th:only-of-type {\n",
       "        vertical-align: middle;\n",
       "    }\n",
       "\n",
       "    .dataframe tbody tr th {\n",
       "        vertical-align: top;\n",
       "    }\n",
       "\n",
       "    .dataframe thead th {\n",
       "        text-align: right;\n",
       "    }\n",
       "</style>\n",
       "<table border=\"1\" class=\"dataframe\">\n",
       "  <thead>\n",
       "    <tr style=\"text-align: right;\">\n",
       "      <th></th>\n",
       "      <th>Timestamp</th>\n",
       "      <th>Steps walked</th>\n",
       "    </tr>\n",
       "  </thead>\n",
       "  <tbody>\n",
       "    <tr>\n",
       "      <th>0</th>\n",
       "      <td>2022-05-25 01:53:00</td>\n",
       "      <td>0.0</td>\n",
       "    </tr>\n",
       "    <tr>\n",
       "      <th>1</th>\n",
       "      <td>2022-05-25 02:10:00</td>\n",
       "      <td>22.0</td>\n",
       "    </tr>\n",
       "    <tr>\n",
       "      <th>2</th>\n",
       "      <td>2022-05-25 02:24:00</td>\n",
       "      <td>135.0</td>\n",
       "    </tr>\n",
       "    <tr>\n",
       "      <th>3</th>\n",
       "      <td>2022-05-25 02:50:00</td>\n",
       "      <td>10.0</td>\n",
       "    </tr>\n",
       "    <tr>\n",
       "      <th>4</th>\n",
       "      <td>2022-05-25 04:16:00</td>\n",
       "      <td>10.0</td>\n",
       "    </tr>\n",
       "  </tbody>\n",
       "</table>\n",
       "</div>"
      ],
      "text/plain": [
       "            Timestamp  Steps walked\n",
       "0 2022-05-25 01:53:00           0.0\n",
       "1 2022-05-25 02:10:00          22.0\n",
       "2 2022-05-25 02:24:00         135.0\n",
       "3 2022-05-25 02:50:00          10.0\n",
       "4 2022-05-25 04:16:00          10.0"
      ]
     },
     "execution_count": 32,
     "metadata": {},
     "output_type": "execute_result"
    }
   ],
   "source": [
    "df_wake.head()"
   ]
  },
  {
   "cell_type": "code",
   "execution_count": 33,
   "id": "654685df",
   "metadata": {},
   "outputs": [
    {
     "data": {
      "text/plain": [
       "<AxesSubplot:xlabel='Timestamp', ylabel='Steps walked'>"
      ]
     },
     "execution_count": 33,
     "metadata": {},
     "output_type": "execute_result"
    },
    {
     "data": {
      "image/png": "[encoded data removed]",
      "text/plain": [
       "<Figure size 2880x1440 with 1 Axes>"
      ]
     },
     "metadata": {},
     "output_type": "display_data"
    }
   ],
   "source": [
    "sns.set(rc={'figure.figsize':(40,20)})\n",
    "sns.barplot(data=df_wake, x=\"Timestamp\", y=\"Steps walked\")"
   ]
  },
  {
   "cell_type": "code",
   "execution_count": null,
   "id": "5f319d1f",
   "metadata": {},
   "outputs": [],
   "source": []
  }
 ],
 "metadata": {
  "kernelspec": {
   "display_name": "Python 3 (ipykernel)",
   "language": "python",
   "name": "python3"
  },
  "language_info": {
   "codemirror_mode": {
    "name": "ipython",
    "version": 3
   },
   "file_extension": ".py",
   "mimetype": "text/x-python",
   "name": "python",
   "nbconvert_exporter": "python",
   "pygments_lexer": "ipython3",
   "version": "3.9.7"
  }
 },
 "nbformat": 4,
 "nbformat_minor": 5
}
